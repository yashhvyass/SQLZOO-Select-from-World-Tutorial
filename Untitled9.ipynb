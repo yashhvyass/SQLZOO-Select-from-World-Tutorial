{
  "nbformat": 4,
  "nbformat_minor": 0,
  "metadata": {
    "colab": {
      "name": "Untitled9.ipynb",
      "provenance": [],
      "authorship_tag": "ABX9TyPdFntbsjZKJ97ls1WmiclS",
      "include_colab_link": true
    },
    "kernelspec": {
      "name": "python3",
      "display_name": "Python 3"
    }
  },
  "cells": [
    {
      "cell_type": "markdown",
      "metadata": {
        "id": "view-in-github",
        "colab_type": "text"
      },
      "source": [
        "<a href=\"https://colab.research.google.com/github/yashvyas1405/SQLZOO-Select-from-World-Tutorial/blob/main/Untitled9.ipynb\" target=\"_parent\"><img src=\"https://colab.research.google.com/assets/colab-badge.svg\" alt=\"Open In Colab\"/></a>"
      ]
    },
    {
      "cell_type": "markdown",
      "metadata": {
        "id": "Z3MuGyrpDCi3"
      },
      "source": [
        "# SQLZOO select from world tutorial"
      ]
    },
    {
      "cell_type": "markdown",
      "metadata": {
        "id": "3Mj0j2rMvelq"
      },
      "source": [
        "1. Observe the result of running this SQL command to show the name, continent and population of all countries."
      ]
    },
    {
      "cell_type": "code",
      "metadata": {
        "id": "vlNerdZzvTGA"
      },
      "source": [
        "SELECT name, continent, population FROM world"
      ],
      "execution_count": null,
      "outputs": []
    },
    {
      "cell_type": "markdown",
      "metadata": {
        "id": "UR-4pWCXvkM-"
      },
      "source": [
        "2. Show the name for the countries that have a population of at least 200 million. 200 million is 200000000, there are eight zeros."
      ]
    },
    {
      "cell_type": "code",
      "metadata": {
        "id": "6-q-29ZRvr8P"
      },
      "source": [
        "SELECT name\r\n",
        "  FROM world\r\n",
        " WHERE population > 200000000"
      ],
      "execution_count": null,
      "outputs": []
    },
    {
      "cell_type": "markdown",
      "metadata": {
        "id": "oiUa0s9fwZ1I"
      },
      "source": [
        "3. Give the name and the per capita GDP for those countries with a population of at least 200 million."
      ]
    },
    {
      "cell_type": "code",
      "metadata": {
        "id": "cM4CGp6DwbaT"
      },
      "source": [
        "select name, gdp/population\r\n",
        "from world\r\n",
        "where population > 200000000"
      ],
      "execution_count": null,
      "outputs": []
    },
    {
      "cell_type": "markdown",
      "metadata": {
        "id": "Ozq3PyYpwd60"
      },
      "source": [
        "4. Show the name and population in millions for the countries of the continent 'South America'. Divide the population by 1000000 to get population in millions."
      ]
    },
    {
      "cell_type": "code",
      "metadata": {
        "id": "WeuZ7Ibbwvr8"
      },
      "source": [
        "select name, population/1000000\r\n",
        "from world\r\n",
        "where continent = 'South America'"
      ],
      "execution_count": null,
      "outputs": []
    },
    {
      "cell_type": "markdown",
      "metadata": {
        "id": "YQM-PRmCxQR5"
      },
      "source": [
        "5. Show the name and population for France, Germany, Italy\r\n",
        "\r\n"
      ]
    },
    {
      "cell_type": "code",
      "metadata": {
        "id": "mCeSk8L0C8AU"
      },
      "source": [
        "select name, population\r\n",
        "from world\r\n",
        "where name in ('France', 'Germany', 'Italy')"
      ],
      "execution_count": null,
      "outputs": []
    },
    {
      "cell_type": "markdown",
      "metadata": {
        "id": "TkjLdaQCxTY7"
      },
      "source": [
        "6. Show the countries which have a name that includes the word 'United'\r\n",
        "\r\n"
      ]
    },
    {
      "cell_type": "code",
      "metadata": {
        "id": "pM-dCSrcxe4f"
      },
      "source": [
        "select name\r\n",
        "from world\r\n",
        "where name like '%United%'"
      ],
      "execution_count": null,
      "outputs": []
    },
    {
      "cell_type": "markdown",
      "metadata": {
        "id": "DslNg9LCyLz_"
      },
      "source": [
        "7. Two ways to be big: A country is big if it has an area of more than 3 million sq km or it has a population of more than 250 million."
      ]
    },
    {
      "cell_type": "code",
      "metadata": {
        "id": "jA0kqBS7yN--"
      },
      "source": [
        "select name, population, area\r\n",
        "from world\r\n",
        "where area > 3000000 or population > 250000000"
      ],
      "execution_count": null,
      "outputs": []
    },
    {
      "cell_type": "markdown",
      "metadata": {
        "id": "A1Evp8wN52j_"
      },
      "source": [
        "8. Exclusive OR (XOR). Show the countries that are big by area (more than 3 million) or big by population (more than 250 million) but not both. Show name, population and area."
      ]
    },
    {
      "cell_type": "code",
      "metadata": {
        "id": "uedRNMB754se"
      },
      "source": [
        "select name, population, area\r\n",
        "from world\r\n",
        "where area > 3000000 xor population > 250000000 "
      ],
      "execution_count": null,
      "outputs": []
    },
    {
      "cell_type": "markdown",
      "metadata": {
        "id": "AJH8GZDq61Xd"
      },
      "source": [
        "9. For South America show population in millions and GDP in billions both to 2 decimal places."
      ]
    },
    {
      "cell_type": "code",
      "metadata": {
        "id": "XtM93r27C3v8"
      },
      "source": [
        "select name, ROUND(population/1000000, 2), ROUND(gdp/1000000000,2)\r\n",
        "from world\r\n",
        "where continent = 'South America'"
      ],
      "execution_count": null,
      "outputs": []
    },
    {
      "cell_type": "markdown",
      "metadata": {
        "id": "bB4Gu8pjB5u4"
      },
      "source": [
        "10. Show per-capita GDP for the trillion dollar countries to the nearest $1000.\r\n",
        "\r\n"
      ]
    },
    {
      "cell_type": "code",
      "metadata": {
        "id": "KTBAUGFOB7cU"
      },
      "source": [
        "SELECT name, round(gdp/population, -3)\r\n",
        "from world\r\n",
        "where gdp > 1000000000000"
      ],
      "execution_count": null,
      "outputs": []
    },
    {
      "cell_type": "markdown",
      "metadata": {
        "id": "24pWo-5464Td"
      },
      "source": [
        "11. Show the name and capital where the name and the capital have the same number of characters."
      ]
    },
    {
      "cell_type": "code",
      "metadata": {
        "id": "65WzF4xb9NkQ"
      },
      "source": [
        "SELECT name,     \r\n",
        "       capital\r\n",
        "  FROM world\r\n",
        " WHERE length(name) = length(capital)"
      ],
      "execution_count": null,
      "outputs": []
    },
    {
      "cell_type": "markdown",
      "metadata": {
        "id": "RTykwQivCDxi"
      },
      "source": [
        "12. Show the name and the capital where the first letters of each match. Don't include countries where the name and the capital are the same word."
      ]
    },
    {
      "cell_type": "code",
      "metadata": {
        "id": "R7XG1QW4C0Hq"
      },
      "source": [
        "SELECT name, capital\r\n",
        "FROM world\r\n",
        "where left(name, 1) = left(capital, 1) and name!=capital"
      ],
      "execution_count": null,
      "outputs": []
    },
    {
      "cell_type": "markdown",
      "metadata": {
        "id": "SEeHe2svCHhx"
      },
      "source": [
        "13. Find the country that has all the vowels and no spaces in its name.\r\n",
        "\r\n"
      ]
    },
    {
      "cell_type": "code",
      "metadata": {
        "id": "Vt_0Ql1UCKkl"
      },
      "source": [
        "SELECT name\r\n",
        "FROM world\r\n",
        "WHERE name LIKE '%a%' and name like '%e%' and name like '%i%' and name like '%o%' and name like '%u%' and name not like '% %'\r\n"
      ],
      "execution_count": null,
      "outputs": []
    }
  ]
}